{
 "cells": [
  {
   "cell_type": "code",
   "execution_count": 1,
   "metadata": {},
   "outputs": [
    {
     "name": "stdout",
     "output_type": "stream",
     "text": [
      "Name: fastai\n",
      "Version: 2.0.13\n",
      "Summary: fastai simplifies training fast and accurate neural nets using modern best practices\n",
      "Home-page: https://github.com/fastai/fastai/tree/master/\n",
      "Author: Jeremy Howard, Sylvain Gugger, and contributors\n",
      "Author-email: info@fast.ai\n",
      "License: Apache Software License 2.0\n",
      "Location: /Users/ganesh/opt/anaconda3/envs/fastaudio/lib/python3.8/site-packages\n",
      "Requires: scipy, matplotlib, fastcore, spacy, pip, pandas, pillow, pyyaml, requests, fastprogress, torch, torchvision, packaging, scikit-learn\n",
      "Required-by: fastaudio\n",
      "2020-10-17 21:35:55.101292+05:30\n",
      "\n",
      " ** path is ** : /Users/ganesh/Documents/GitHub/DLAudio/GS_Valerio_SoundofAI \n",
      "\n",
      " ** path.ls() ** \n",
      " (#7) [Path('/Users/ganesh/Documents/GitHub/DLAudio/GS_Valerio_SoundofAI/Spectrogram+MelSpectrogram.ipynb'),Path('/Users/ganesh/Documents/GitHub/DLAudio/GS_Valerio_SoundofAI/MFCC.ipynb'),Path('/Users/ganesh/Documents/GitHub/DLAudio/GS_Valerio_SoundofAI/FFT.ipynb'),Path('/Users/ganesh/Documents/GitHub/DLAudio/GS_Valerio_SoundofAI/Test_TF+FASTAI_conda_env.ipynb'),Path('/Users/ganesh/Documents/GitHub/DLAudio/GS_Valerio_SoundofAI/Music Genre Classification MLP.ipynb'),Path('/Users/ganesh/Documents/GitHub/DLAudio/GS_Valerio_SoundofAI/.ipynb_checkpoints'),Path('/Users/ganesh/Documents/GitHub/DLAudio/GS_Valerio_SoundofAI/data')]\n"
     ]
    }
   ],
   "source": [
    "%matplotlib widget\n",
    "\n",
    "import sys\n",
    "\n",
    "import tensorflow.keras\n",
    "import tensorflow as tf\n",
    "\n",
    "\n",
    "import os\n",
    "from fastai.basics import *\n",
    "#%matplotlib widget\n",
    "\n",
    "import os\n",
    "from fastai.basics import *\n",
    "from fastai.vision.all import *\n",
    "from fastai.callback.all import *\n",
    "import datetime \n",
    "import pytz  \n",
    "\n",
    "!pip show fastai\n",
    "print(datetime.datetime.now(pytz.timezone('Asia/Kolkata')))\n",
    "\n",
    "\n",
    "from fastai.vision.all import *\n",
    "from fastaudio.core.all import *\n",
    "from fastaudio.augment.all import *\n",
    "\n",
    "import librosa\n",
    "import librosa.display\n",
    "import IPython.display as ipd\n",
    "from IPython.display import Audio\n",
    "\n",
    "import matplotlib.pyplot as plt\n",
    "\n",
    "path = Path(os.getcwd())\n",
    "print(f'\\n ** path is ** : {path} ')\n",
    "print(f'\\n ** path.ls() ** \\n {path.ls()}')"
   ]
  },
  {
   "cell_type": "code",
   "execution_count": null,
   "metadata": {},
   "outputs": [],
   "source": []
  }
 ],
 "metadata": {
  "kernelspec": {
   "display_name": "Python 3",
   "language": "python",
   "name": "python3"
  },
  "language_info": {
   "codemirror_mode": {
    "name": "ipython",
    "version": 3
   },
   "file_extension": ".py",
   "mimetype": "text/x-python",
   "name": "python",
   "nbconvert_exporter": "python",
   "pygments_lexer": "ipython3",
   "version": "3.8.5"
  },
  "varInspector": {
   "cols": {
    "lenName": 16,
    "lenType": 16,
    "lenVar": 40
   },
   "kernels_config": {
    "python": {
     "delete_cmd_postfix": "",
     "delete_cmd_prefix": "del ",
     "library": "var_list.py",
     "varRefreshCmd": "print(var_dic_list())"
    },
    "r": {
     "delete_cmd_postfix": ") ",
     "delete_cmd_prefix": "rm(",
     "library": "var_list.r",
     "varRefreshCmd": "cat(var_dic_list()) "
    }
   },
   "types_to_exclude": [
    "module",
    "function",
    "builtin_function_or_method",
    "instance",
    "_Feature"
   ],
   "window_display": false
  }
 },
 "nbformat": 4,
 "nbformat_minor": 4
}
