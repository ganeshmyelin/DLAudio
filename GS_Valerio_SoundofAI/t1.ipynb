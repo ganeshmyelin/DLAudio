{
 "cells": [
  {
   "cell_type": "code",
   "execution_count": null,
   "metadata": {
    "collapsed": true
   },
   "outputs": [],
   "source": []
  },
  {
   "cell_type": "code",
   "execution_count": 2,
   "outputs": [
    {
     "name": "stdout",
     "output_type": "stream",
     "text": [
      "ganesh\n"
     ]
    }
   ],
   "source": [
    "\n",
    "my_string = \"ganesh\"\n",
    "print(my_string)"
   ],
   "metadata": {
    "collapsed": false,
    "pycharm": {
     "name": "#%%\n"
    }
   }
  },
  {
   "cell_type": "code",
   "execution_count": 3,
   "outputs": [
    {
     "data": {
      "text/plain": "  Site     Date   methane      hydrogen        CO  nitrate  ammonia  sulfide  \\\n0   D1  12/7/15       NaN           NaN       NaN      NaN      NaN      NaN   \n1   D1   5/2/16       NaN           NaN       NaN      0.5     0.06      8.0   \n2   D1  5/18/16  0.000013  2.521520e-07  0.000013      0.2     0.08      0.0   \n3   D1  7/11/16  0.000008  3.551420e-08  0.000001      0.2     0.09      0.0   \n4   D1  9/20/16  0.000003  8.363680e-09  0.000003      0.3     0.08      0.0   \n\n   sulfate  ferrous_iron    DOC  \n0    310.0           NaN    NaN  \n1    355.0          2.28    NaN  \n2    340.0          2.60  0.486  \n3    312.0          2.12  0.420  \n4    302.0          2.49  0.450  ",
      "text/html": "<div>\n<style scoped>\n    .dataframe tbody tr th:only-of-type {\n        vertical-align: middle;\n    }\n\n    .dataframe tbody tr th {\n        vertical-align: top;\n    }\n\n    .dataframe thead th {\n        text-align: right;\n    }\n</style>\n<table border=\"1\" class=\"dataframe\">\n  <thead>\n    <tr style=\"text-align: right;\">\n      <th></th>\n      <th>Site</th>\n      <th>Date</th>\n      <th>methane</th>\n      <th>hydrogen</th>\n      <th>CO</th>\n      <th>nitrate</th>\n      <th>ammonia</th>\n      <th>sulfide</th>\n      <th>sulfate</th>\n      <th>ferrous_iron</th>\n      <th>DOC</th>\n    </tr>\n  </thead>\n  <tbody>\n    <tr>\n      <th>0</th>\n      <td>D1</td>\n      <td>12/7/15</td>\n      <td>NaN</td>\n      <td>NaN</td>\n      <td>NaN</td>\n      <td>NaN</td>\n      <td>NaN</td>\n      <td>NaN</td>\n      <td>310.0</td>\n      <td>NaN</td>\n      <td>NaN</td>\n    </tr>\n    <tr>\n      <th>1</th>\n      <td>D1</td>\n      <td>5/2/16</td>\n      <td>NaN</td>\n      <td>NaN</td>\n      <td>NaN</td>\n      <td>0.5</td>\n      <td>0.06</td>\n      <td>8.0</td>\n      <td>355.0</td>\n      <td>2.28</td>\n      <td>NaN</td>\n    </tr>\n    <tr>\n      <th>2</th>\n      <td>D1</td>\n      <td>5/18/16</td>\n      <td>0.000013</td>\n      <td>2.521520e-07</td>\n      <td>0.000013</td>\n      <td>0.2</td>\n      <td>0.08</td>\n      <td>0.0</td>\n      <td>340.0</td>\n      <td>2.60</td>\n      <td>0.486</td>\n    </tr>\n    <tr>\n      <th>3</th>\n      <td>D1</td>\n      <td>7/11/16</td>\n      <td>0.000008</td>\n      <td>3.551420e-08</td>\n      <td>0.000001</td>\n      <td>0.2</td>\n      <td>0.09</td>\n      <td>0.0</td>\n      <td>312.0</td>\n      <td>2.12</td>\n      <td>0.420</td>\n    </tr>\n    <tr>\n      <th>4</th>\n      <td>D1</td>\n      <td>9/20/16</td>\n      <td>0.000003</td>\n      <td>8.363680e-09</td>\n      <td>0.000003</td>\n      <td>0.3</td>\n      <td>0.08</td>\n      <td>0.0</td>\n      <td>302.0</td>\n      <td>2.49</td>\n      <td>0.450</td>\n    </tr>\n  </tbody>\n</table>\n</div>"
     },
     "execution_count": 3,
     "metadata": {},
     "output_type": "execute_result"
    }
   ],
   "source": [
    "import pandas as pd\n",
    "\n",
    "#read in data from my github repo\n",
    "data = pd.read_csv(\"https://raw.githubusercontent.com/CaitlinCasar/Casar2020_DeMMO_MineralHostedBiofilms/master/orig_data/site_geochem.csv\")\n",
    "data.head()"
   ],
   "metadata": {
    "collapsed": false,
    "pycharm": {
     "name": "#%%\n"
    }
   }
  },
  {
   "cell_type": "code",
   "execution_count": null,
   "outputs": [],
   "source": [],
   "metadata": {
    "collapsed": false,
    "pycharm": {
     "name": "#%%\n"
    }
   }
  }
 ],
 "metadata": {
  "kernelspec": {
   "display_name": "Python 3",
   "language": "python",
   "name": "python3"
  },
  "language_info": {
   "codemirror_mode": {
    "name": "ipython",
    "version": 2
   },
   "file_extension": ".py",
   "mimetype": "text/x-python",
   "name": "python",
   "nbconvert_exporter": "python",
   "pygments_lexer": "ipython2",
   "version": "2.7.6"
  }
 },
 "nbformat": 4,
 "nbformat_minor": 0
}